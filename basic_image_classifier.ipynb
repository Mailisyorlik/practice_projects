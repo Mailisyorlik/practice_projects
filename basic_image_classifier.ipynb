{
  "nbformat": 4,
  "nbformat_minor": 0,
  "metadata": {
    "colab": {
      "name": "basic_image_classifier.ipynb",
      "provenance": [],
      "collapsed_sections": [],
      "authorship_tag": "ABX9TyPFf+1bOD2PdB6maSDI82/z",
      "include_colab_link": true
    },
    "kernelspec": {
      "name": "python3",
      "display_name": "Python 3"
    }
  },
  "cells": [
    {
      "cell_type": "markdown",
      "metadata": {
        "id": "view-in-github",
        "colab_type": "text"
      },
      "source": [
        "<a href=\"https://colab.research.google.com/github/Mailisyorlik/practice_projects/blob/main/basic_image_classifier.ipynb\" target=\"_parent\"><img src=\"https://colab.research.google.com/assets/colab-badge.svg\" alt=\"Open In Colab\"/></a>"
      ]
    },
    {
      "cell_type": "code",
      "metadata": {
        "id": "v6IRxzoW2hLh"
      },
      "source": [
        "import sys, numpy as np\n",
        "from keras.datasets import mnist\n",
        "\n",
        "(x_train, y_train), (x_test, y_test) = mnist.load(data)\n",
        "\n",
        "images, labels = (xtrain[1:1000].reshape(1000, 28*28) \\255, y_train[0:1000])\n",
        "\n",
        "one_hot_labels = np.zeros((len(labels), 10))\n",
        "\n",
        "for i, l in enumerate(labels):\n",
        "  one_hot_labels[i][l] = 1\n",
        "labels = one_hot_labels\n",
        "\n",
        "test_images = x_test.reshape(len(x_test, 28*28) / 255\n",
        "test_labels = np.zeros((len(y_test), 10))\n",
        "for i, l in enumerate(y_test):\n",
        "  test_labels[i][l] = 1\n",
        "\n",
        "np.random.seed(1)\n",
        "relu = lambda x: (x>=0) * x\n",
        "relu2deriv = lambda x: x > 0\n",
        "alpha, iterations, hidden_size, pixels_per_image, num_labels = (0.005, 350, 40, 784, 1)\n",
        "\n",
        "weights_0_1 = 0.2*np.random.random((pixels_per_image, hidden_size)) - 0.1\n",
        "weights_1_2 = 0.2*np.random.random((hidden_size, num_labels)) - 0.1\n",
        "\n",
        "for j in range(iterations):\n",
        "  error, correct_cnt = (0.0, 0)\n",
        "  for i in range(len(images)):\n",
        "    layer_0 = images[i:i+1]\n",
        "    layer_1 = relu(np.dot(layer_0, weights_0_1))\n",
        "    layer_2 = np.dot(layer_1, weights_1_2)\n",
        "    error += np.sum((labels[i:i+1] - layer_2) **2)\n",
        "    correct_cnt += int(np.argmax(layer_2) == np.argmax(labels[i:i+1]))\n",
        "\n",
        "    layer_2_delta = (labels[i:i+1] - layer_2)\n",
        "    layer_1_delta = layer_2_delta.dot(weights_1_2.T) * relu2deriv(layer_1)\n",
        "\n",
        "    weights_1_2 += alpha * layer_1.T.dot(layer_2_delta)\n",
        "    weights_0_1 += alpha * layer_0.T.dot(layer_2_delta)\n",
        "  \n",
        "  sys.stdout.write(\"\\r\" + \"I: \"+str(j)+ \"error:\" + str(error/float(len(images))[0:5] + \"correct:\" + str(correct_cnt/float(len(images)))))"
      ],
      "execution_count": null,
      "outputs": []
    },
    {
      "cell_type": "code",
      "metadata": {
        "id": "KwaamrrJ2kBB"
      },
      "source": [
        ""
      ],
      "execution_count": null,
      "outputs": []
    }
  ]
}